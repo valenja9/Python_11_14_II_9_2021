{
  "nbformat": 4,
  "nbformat_minor": 0,
  "metadata": {
    "colab": {
      "name": "Python_II_3_11.ipynb",
      "provenance": [],
      "authorship_tag": "ABX9TyOxElVoOCrdvEAnNn4gw2bk",
      "include_colab_link": true
    },
    "kernelspec": {
      "name": "python3",
      "display_name": "Python 3"
    },
    "language_info": {
      "name": "python"
    }
  },
  "cells": [
    {
      "cell_type": "markdown",
      "metadata": {
        "id": "view-in-github",
        "colab_type": "text"
      },
      "source": [
        "<a href=\"https://colab.research.google.com/github/valenja9/Python_11_14_II_9_2021/blob/main/Python_II_3_11.ipynb\" target=\"_parent\"><img src=\"https://colab.research.google.com/assets/colab-badge.svg\" alt=\"Open In Colab\"/></a>"
      ]
    },
    {
      "cell_type": "code",
      "metadata": {
        "id": "24Z9Ec_39ibJ"
      },
      "source": [
        "#\n",
        "jmeno = \"Jaku2b\"\n",
        "vek = 5\n",
        "vic_informaci = [\"Jakub\", \"Petr\", \"Martin\", \"Tomas\"]"
      ],
      "execution_count": 6,
      "outputs": []
    },
    {
      "cell_type": "code",
      "metadata": {
        "colab": {
          "base_uri": "https://localhost:8080/",
          "height": 35
        },
        "id": "tmVxLx_K-UgP",
        "outputId": "d75d06fa-c13f-4c3f-b257-bbb9e7f36cdd"
      },
      "source": [
        "poradi = 1\n",
        "vic_informaci[poradi-1]"
      ],
      "execution_count": 2,
      "outputs": [
        {
          "output_type": "execute_result",
          "data": {
            "application/vnd.google.colaboratory.intrinsic+json": {
              "type": "string"
            },
            "text/plain": [
              "'Jakub'"
            ]
          },
          "metadata": {},
          "execution_count": 2
        }
      ]
    },
    {
      "cell_type": "code",
      "metadata": {
        "colab": {
          "base_uri": "https://localhost:8080/"
        },
        "id": "vumwTtEg_ExX",
        "outputId": "83e4d637-dcf9-4eec-db38-789f2a0f8a6c"
      },
      "source": [
        "jmeno.isalpha()"
      ],
      "execution_count": 8,
      "outputs": [
        {
          "output_type": "execute_result",
          "data": {
            "text/plain": [
              "False"
            ]
          },
          "metadata": {},
          "execution_count": 8
        }
      ]
    },
    {
      "cell_type": "code",
      "metadata": {
        "colab": {
          "base_uri": "https://localhost:8080/"
        },
        "id": "Sl9ZVm1R_WxB",
        "outputId": "65b86839-6b07-47a7-b899-eb23777b2954"
      },
      "source": [
        "txt = \"Jakub\"\n",
        "\n",
        "x = \"Jaku\"\n",
        "y = \"Kuba\"\n",
        "z = \"b\"\n",
        "\n",
        "mytable = txt.maketrans(x, y, z)\n",
        "\n",
        "print(txt.translate(mytable))\n"
      ],
      "execution_count": 11,
      "outputs": [
        {
          "output_type": "stream",
          "name": "stdout",
          "text": [
            "Kuba\n"
          ]
        }
      ]
    },
    {
      "cell_type": "code",
      "metadata": {
        "colab": {
          "base_uri": "https://localhost:8080/"
        },
        "id": "EiY_zvoeBpoh",
        "outputId": "58772f03-8823-4e95-9e11-8dcc09527abc"
      },
      "source": [
        "import string\n",
        "\n",
        "original = \"g fmnc wms bgblr rpylqjyrc gr zw fylb. rfyrq ufyr amknsrcpq ypc \" \\\n",
        "    \"dmp. bmgle gr gl zw fylb gq glcddgagclr ylb rfyr'q ufw rfgq \" \\\n",
        "    \"rcvr gq qm jmle. sqgle qrpgle.kyicrpylq() gq pcamkkclbcb. lmu \" \\\n",
        "    \"ynnjw ml rfc spj.\"\n",
        "\n",
        "table = original.maketrans(\n",
        "    \"abcdefghijklmnopqrstuvwxyz\", \"cdefghijklmnopqrstuvwxyzab\"\n",
        ")\n",
        "\n",
        "print(original.translate(table))"
      ],
      "execution_count": 14,
      "outputs": [
        {
          "output_type": "stream",
          "name": "stdout",
          "text": [
            "i hope you didnt translate it by hand. thats what computers are for. doing it in by hand is inefficient and that's why this text is so long. using string.maketrans() is recommended. now apply on the url.\n"
          ]
        }
      ]
    },
    {
      "cell_type": "code",
      "metadata": {
        "colab": {
          "base_uri": "https://localhost:8080/",
          "height": 35
        },
        "id": "iPKQ8QmqEVG-",
        "outputId": "91b21e57-48ca-4177-f4fa-086ff344c257"
      },
      "source": [
        "abeceda[6:] + abeceda[:6]"
      ],
      "execution_count": 25,
      "outputs": [
        {
          "output_type": "execute_result",
          "data": {
            "application/vnd.google.colaboratory.intrinsic+json": {
              "type": "string"
            },
            "text/plain": [
              "'ghijklmnopqrstuvwxyzabcdef'"
            ]
          },
          "metadata": {},
          "execution_count": 25
        }
      ]
    },
    {
      "cell_type": "code",
      "metadata": {
        "colab": {
          "base_uri": "https://localhost:8080/"
        },
        "id": "ABrHYdiXCBQu",
        "outputId": "9e3cd9fb-3877-4a27-903c-88d652bcc636"
      },
      "source": [
        "#cesarova sifra\n",
        "original = input(\"Zadej text dovnitr: \").lower() #zada se text a zmensuje se\n",
        "index = 2 #o kolik to budu pousovat \n",
        "abeceda = \"abcdefghijklmnopqrstuvwxyz\"\n",
        "posloupnost = abeceda[index:] + abeceda[:index] #sliceing\n",
        "table = original.maketrans(\n",
        "    abeceda, posloupnost\n",
        ")\n",
        "print(original.translate(table))"
      ],
      "execution_count": 17,
      "outputs": [
        {
          "output_type": "stream",
          "name": "stdout",
          "text": [
            "Zadej text dovnitr: ahoj\n",
            "bipk\n"
          ]
        }
      ]
    },
    {
      "cell_type": "code",
      "metadata": {
        "colab": {
          "base_uri": "https://localhost:8080/"
        },
        "id": "ijsBfm2kF1JE",
        "outputId": "89997854-7ba0-4196-c89d-2f052bccf665"
      },
      "source": [
        "for i in range(1,27):\n",
        "  print(i)"
      ],
      "execution_count": 26,
      "outputs": [
        {
          "output_type": "stream",
          "name": "stdout",
          "text": [
            "1\n",
            "2\n",
            "3\n",
            "4\n",
            "5\n",
            "6\n",
            "7\n",
            "8\n",
            "9\n",
            "10\n",
            "11\n",
            "12\n",
            "13\n",
            "14\n",
            "15\n",
            "16\n",
            "17\n",
            "18\n",
            "19\n",
            "20\n",
            "21\n",
            "22\n",
            "23\n",
            "24\n",
            "25\n",
            "26\n"
          ]
        }
      ]
    },
    {
      "cell_type": "code",
      "metadata": {
        "colab": {
          "base_uri": "https://localhost:8080/"
        },
        "id": "kee1d_mUFr-j",
        "outputId": "2be7b7e1-f0ac-489b-fe73-943e06e12982"
      },
      "source": [
        "#cesarova sifra\n",
        "original = input(\"Zadej text dovnitr: \").lower() #zada se text a zmensuje se\n",
        "for index in range(1,27):\n",
        "  abeceda = \"abcdefghijklmnopqrstuvwxyz\"\n",
        "  posloupnost = abeceda[index:] + abeceda[:index] #sliceing\n",
        "  table = original.maketrans(\n",
        "      abeceda, posloupnost\n",
        "  )\n",
        "  print(original.translate(table), f\"Klic je:{index}\")"
      ],
      "execution_count": 30,
      "outputs": [
        {
          "output_type": "stream",
          "name": "stdout",
          "text": [
            "Zadej text dovnitr: fztuzjdgzetshjgfdtzqwjzgswgzfjcuhdbvztxdcgcýž\n",
            "gauvakehafutikhgeuarxkahtxhagkdviecwauyedhdýž Klic je:1\n",
            "hbvwblfibgvujlihfvbsylbiuyibhlewjfdxbvzfeieýž Klic je:2\n",
            "icwxcmgjchwvkmjigwctzmcjvzjcimfxkgeycwagfjfýž Klic je:3\n",
            "jdxydnhkdixwlnkjhxduandkwakdjngylhfzdxbhgkgýž Klic je:4\n",
            "keyzeoilejyxmolkiyevboelxblekohzmigaeycihlhýž Klic je:5\n",
            "lfzafpjmfkzynpmljzfwcpfmycmflpianjhbfzdjimiýž Klic je:6\n",
            "mgabgqknglazoqnmkagxdqgnzdngmqjbokicgaekjnjýž Klic je:7\n",
            "nhbchrlohmbapronlbhyerhoaeohnrkcpljdhbflkokýž Klic je:8\n",
            "oicdismpincbqspomcizfsipbfpiosldqmkeicgmlplýž Klic je:9\n",
            "pjdejtnqjodcrtqpndjagtjqcgqjptmernlfjdhnmqmýž Klic je:10\n",
            "qkefkuorkpedsurqoekbhukrdhrkqunfsomgkeionrnýž Klic je:11\n",
            "rlfglvpslqfetvsrpflcivlseislrvogtpnhlfjposoýž Klic je:12\n",
            "smghmwqtmrgfuwtsqgmdjwmtfjtmswphuqoimgkqptpýž Klic je:13\n",
            "tnhinxrunshgvxutrhnekxnugkuntxqivrpjnhlrquqýž Klic je:14\n",
            "uoijoysvotihwyvusioflyovhlvouyrjwsqkoimsrvrýž Klic je:15\n",
            "vpjkpztwpujixzwvtjpgmzpwimwpvzskxtrlpjntswsýž Klic je:16\n",
            "wqklqauxqvkjyaxwukqhnaqxjnxqwatlyusmqkoutxtýž Klic je:17\n",
            "xrlmrbvyrwlkzbyxvlriobrykoyrxbumzvtnrlpvuyuýž Klic je:18\n",
            "ysmnscwzsxmlaczywmsjpcszlpzsycvnawuosmqwvzvýž Klic je:19\n",
            "ztnotdxatynmbdazxntkqdtamqatzdwobxvptnrxwawýž Klic je:20\n",
            "auopueybuzoncebayoulreubnrbuaexpcywquosyxbxýž Klic je:21\n",
            "bvpqvfzcvapodfcbzpvmsfvcoscvbfyqdzxrvptzycyýž Klic je:22\n",
            "cwqrwgadwbqpegdcaqwntgwdptdwcgzreayswquazdzýž Klic je:23\n",
            "dxrsxhbexcrqfhedbrxouhxequexdhasfbztxrvbaeaýž Klic je:24\n",
            "eystyicfydsrgifecsypviyfrvfyeibtgcauyswcbfbýž Klic je:25\n",
            "fztuzjdgzetshjgfdtzqwjzgswgzfjcuhdbvztxdcgcýž Klic je:26\n"
          ]
        }
      ]
    },
    {
      "cell_type": "code",
      "metadata": {
        "colab": {
          "base_uri": "https://localhost:8080/"
        },
        "id": "WTz2EJudPpYt",
        "outputId": "50b63f05-2a76-41b4-b4f8-700e8e13cf15"
      },
      "source": [
        "print(\"Vítej v mé kalkulačce pokud chceš něco vypočítat (nejlépe u testu z matiky) tak napiš dvě čísla\")\n",
        "a = int(input (\"Zadej číslo\"))\n",
        "b = int(input(\"Zadej 2 číslo\"))\n",
        "print(\"Ted si vyber co chceš udělat: 1=+, 2=-, 3=x, 4=÷\")\n",
        "znamenko = input(\"Zadej znak\")\n",
        "if znamenko == \"+\":\n",
        "  print(a+b)"
      ],
      "execution_count": 49,
      "outputs": [
        {
          "output_type": "stream",
          "name": "stdout",
          "text": [
            "Vítej v mé kalkulačce pokud chceš něco vypočítat (nejlépe u testu z matiky) tak napiš dvě čísla\n",
            "Zadej číslo1\n",
            "Zadej 2 číslo3\n",
            "Ted si vyber co chceš udělat: 1=+, 2=-, 3=x, 4=÷\n",
            "Zadej znak+\n",
            "4\n"
          ]
        }
      ]
    },
    {
      "cell_type": "code",
      "metadata": {
        "id": "PkZlNnz-Qe3D"
      },
      "source": [
        "oddelovac = 40 * \"=\"\n",
        "print(oddelovac)\n",
        "print(\"\"\"      Aplikace kalkulacka v2.0 \n",
        "V tomto programu se mohou vypočítat jen 2 čísla.\"\"\")\n",
        "print(oddelovac)\n",
        "print(\"\"\"  Vyberte si prosím jedno ze 4 uvedených\n",
        "      1)  + pomoci 1\n",
        "      2)  - pomoci 2\n",
        "      3)  * pomoci 3\n",
        "      4)  / pomoci 4\"\"\")\n",
        "print(oddelovac)\n",
        "volba = int(input(\"Vaše volba? \"))\n",
        "cislo1 = int(input(\"Zadejte prosím 1. číslo :\"))\n",
        "cislo2 = int(input(\"Zadejte prosím ještě 2. číslo :\"))\n",
        "if volba ==   1:\n",
        "  vysledek = cislo1 + cislo2\n",
        "elif volba == 2:\n",
        "  vysledek = cislo1 - cislo2\n",
        "elif volba == 3:\n",
        "  vysledek = cislo1 * cislo2\n",
        "elif volba == 4:\n",
        "  vysledek = cislo1 / cislo2\n",
        "else:\n",
        "  print(\"Error\")\n",
        "print(\"Výsledek je: \", vysledek)\n"
      ],
      "execution_count": null,
      "outputs": []
    },
    {
      "cell_type": "code",
      "metadata": {
        "id": "D13chHjdQesq"
      },
      "source": [
        ""
      ],
      "execution_count": null,
      "outputs": []
    },
    {
      "cell_type": "code",
      "metadata": {
        "colab": {
          "base_uri": "https://localhost:8080/"
        },
        "id": "HewkzRMUQCoz",
        "outputId": "465a5e1d-b400-474d-b7f7-f4a073f006c0"
      },
      "source": [
        "print(\"Vítej v mé kalkulačce pokud chceš něco vypočítat (nejlépe u testu z matiky) tak napiš dvě čísla\")\n",
        "a = int(input (\"Zadej číslo\"))\n",
        "b = int(input(\"Zadej 2 číslo\"))\n",
        "print(\"Ted si vyber co chceš udělat: 1=+, 2=-, 3=x, 4=÷\")\n",
        "znamenko = input(\"Zadej znak\")\n",
        "print({\"1\": a+b, \"2\":a-b}.get(znamenko))"
      ],
      "execution_count": 52,
      "outputs": [
        {
          "output_type": "stream",
          "name": "stdout",
          "text": [
            "Vítej v mé kalkulačce pokud chceš něco vypočítat (nejlépe u testu z matiky) tak napiš dvě čísla\n",
            "Zadej číslo5\n",
            "Zadej 2 číslo6\n",
            "Ted si vyber co chceš udělat: 1=+, 2=-, 3=x, 4=÷\n",
            "Zadej znak1\n",
            "11\n"
          ]
        }
      ]
    },
    {
      "cell_type": "code",
      "metadata": {
        "id": "ugUXUnkS-zWl"
      },
      "source": [
        "vic_informaci.sort()"
      ],
      "execution_count": 3,
      "outputs": []
    },
    {
      "cell_type": "code",
      "metadata": {
        "colab": {
          "base_uri": "https://localhost:8080/"
        },
        "id": "LOzbGiyu_AcS",
        "outputId": "4c33d536-8c34-4627-e7ad-996a3c903811"
      },
      "source": [
        "vic_informaci"
      ],
      "execution_count": 4,
      "outputs": [
        {
          "output_type": "execute_result",
          "data": {
            "text/plain": [
              "['Jakub', 'Martin', 'Petr', 'Tomas']"
            ]
          },
          "metadata": {},
          "execution_count": 4
        }
      ]
    },
    {
      "cell_type": "code",
      "metadata": {
        "colab": {
          "base_uri": "https://localhost:8080/"
        },
        "id": "LjQU1bDPLoNE",
        "outputId": "d5fcffe0-2300-4943-be22-65670966008e"
      },
      "source": [
        "slovnik = {\"a\": 4}\n",
        "def f():\n",
        "  slovnik = \"65\"\n",
        "\n",
        "f()\n",
        "print(slovnik)"
      ],
      "execution_count": 36,
      "outputs": [
        {
          "output_type": "stream",
          "name": "stdout",
          "text": [
            "{'a': 4}\n"
          ]
        }
      ]
    },
    {
      "cell_type": "code",
      "metadata": {
        "id": "0RmUn4RMLyFN"
      },
      "source": [
        "slovnik = {\"a\": 4}\n",
        "def f():\n",
        "  slovnik[\"b\"] = 65"
      ],
      "execution_count": 39,
      "outputs": []
    },
    {
      "cell_type": "code",
      "metadata": {
        "colab": {
          "base_uri": "https://localhost:8080/"
        },
        "id": "UcqBgJZAL6my",
        "outputId": "c64d666a-928c-45ee-9dad-48aa05e3f677"
      },
      "source": [
        "f()\n",
        "print(slovnik)"
      ],
      "execution_count": 40,
      "outputs": [
        {
          "output_type": "stream",
          "name": "stdout",
          "text": [
            "{'a': 4, 'b': 65}\n"
          ]
        }
      ]
    },
    {
      "cell_type": "code",
      "metadata": {
        "colab": {
          "base_uri": "https://localhost:8080/"
        },
        "id": "iD_xGsPcMCpJ",
        "outputId": "9b1439b9-9c60-480a-fe65-88f2098375c5"
      },
      "source": [
        "list_list = [3,4,5]\n",
        "\n",
        "def zmen_list():\n",
        "  list_list[0] = 7\n",
        "\n",
        "zmen_list()\n",
        "print(list_list)"
      ],
      "execution_count": 42,
      "outputs": [
        {
          "output_type": "stream",
          "name": "stdout",
          "text": [
            "[7, 4, 5]\n"
          ]
        }
      ]
    },
    {
      "cell_type": "code",
      "metadata": {
        "colab": {
          "base_uri": "https://localhost:8080/",
          "height": 233
        },
        "id": "vwsDNIFAMUMd",
        "outputId": "5249ba8a-a3eb-478a-ade4-fa4fa2688ba1"
      },
      "source": [
        "def informace(list_cisel):\n",
        "  list_cisel[0] = [6, 7, 8, 9]\n",
        "\n",
        "print(list_list_list)\n",
        "informace(list_list)  \n",
        "list_cisel"
      ],
      "execution_count": 43,
      "outputs": [
        {
          "output_type": "error",
          "ename": "NameError",
          "evalue": "ignored",
          "traceback": [
            "\u001b[0;31m---------------------------------------------------------------------------\u001b[0m",
            "\u001b[0;31mNameError\u001b[0m                                 Traceback (most recent call last)",
            "\u001b[0;32m<ipython-input-43-9fd76d24b93c>\u001b[0m in \u001b[0;36m<module>\u001b[0;34m()\u001b[0m\n\u001b[1;32m      2\u001b[0m   \u001b[0mlist_cisel\u001b[0m \u001b[0;34m=\u001b[0m \u001b[0;34m[\u001b[0m\u001b[0;36m6\u001b[0m\u001b[0;34m,\u001b[0m \u001b[0;36m7\u001b[0m\u001b[0;34m,\u001b[0m \u001b[0;36m8\u001b[0m\u001b[0;34m,\u001b[0m \u001b[0;36m9\u001b[0m\u001b[0;34m]\u001b[0m\u001b[0;34m\u001b[0m\u001b[0;34m\u001b[0m\u001b[0m\n\u001b[1;32m      3\u001b[0m \u001b[0;34m\u001b[0m\u001b[0m\n\u001b[0;32m----> 4\u001b[0;31m \u001b[0mprint\u001b[0m\u001b[0;34m(\u001b[0m\u001b[0mlist_list_list\u001b[0m\u001b[0;34m)\u001b[0m\u001b[0;34m\u001b[0m\u001b[0;34m\u001b[0m\u001b[0m\n\u001b[0m\u001b[1;32m      5\u001b[0m \u001b[0minformace\u001b[0m\u001b[0;34m(\u001b[0m\u001b[0mlist_list\u001b[0m\u001b[0;34m)\u001b[0m\u001b[0;34m\u001b[0m\u001b[0;34m\u001b[0m\u001b[0m\n\u001b[1;32m      6\u001b[0m \u001b[0mlist_cisel\u001b[0m\u001b[0;34m\u001b[0m\u001b[0;34m\u001b[0m\u001b[0m\n",
            "\u001b[0;31mNameError\u001b[0m: name 'list_list_list' is not defined"
          ]
        }
      ]
    },
    {
      "cell_type": "code",
      "metadata": {
        "colab": {
          "base_uri": "https://localhost:8080/"
        },
        "id": "OJFKnNZzM0l4",
        "outputId": "6a6226e6-ed0c-40d6-e97f-f59a222f76e1"
      },
      "source": [
        "def informace(list_cisel):\n",
        "  list_cisel[0] = [6, 7, 8, 9]\n",
        "\n",
        "print(list_list)\n",
        "informace(list_list)  \n",
        "list_list"
      ],
      "execution_count": 46,
      "outputs": [
        {
          "output_type": "stream",
          "name": "stdout",
          "text": [
            "[[6, 7, 8, 9], 4, 5]\n"
          ]
        },
        {
          "output_type": "execute_result",
          "data": {
            "text/plain": [
              "[[6, 7, 8, 9], 4, 5]"
            ]
          },
          "metadata": {},
          "execution_count": 46
        }
      ]
    },
    {
      "cell_type": "code",
      "metadata": {
        "colab": {
          "base_uri": "https://localhost:8080/"
        },
        "id": "hkcCBncLNP_B",
        "outputId": "f3e9e9d8-48fd-4bc5-8a82-e35e6d2869fc"
      },
      "source": [
        "tuple_cisel = 9,7,9,6,8,9\n",
        "def informace(t_cisel):\n",
        "  t_cisel = [6, 7, 8, 9]\n",
        "\n",
        "print(tuple_cisel)\n",
        "informace(tuple_cisel)  \n",
        "tuple_cisel"
      ],
      "execution_count": 47,
      "outputs": [
        {
          "output_type": "stream",
          "name": "stdout",
          "text": [
            "(9, 7, 9, 6, 8, 9)\n"
          ]
        },
        {
          "output_type": "execute_result",
          "data": {
            "text/plain": [
              "(9, 7, 9, 6, 8, 9)"
            ]
          },
          "metadata": {},
          "execution_count": 47
        }
      ]
    },
    {
      "cell_type": "code",
      "metadata": {
        "colab": {
          "base_uri": "https://localhost:8080/",
          "height": 130
        },
        "id": "D2Bav8pUNtip",
        "outputId": "ee91d8ef-20e2-4fe7-dc30-e90c279de8ba"
      },
      "source": [
        "tuple_cisel = 9,7,9,6,8,9\n",
        "def informace(t_cisel):\n",
        "  global t_cisel\n",
        "  t_cisel = [6, 7, 8, 9]\n",
        "\n",
        "print(tuple_cisel)\n",
        "informace(tuple_cisel)  \n",
        "tuple_cisel"
      ],
      "execution_count": 48,
      "outputs": [
        {
          "output_type": "error",
          "ename": "SyntaxError",
          "evalue": "ignored",
          "traceback": [
            "\u001b[0;36m  File \u001b[0;32m\"<ipython-input-48-6d7b4977a69a>\"\u001b[0;36m, line \u001b[0;32m3\u001b[0m\n\u001b[0;31m    global t_cisel\u001b[0m\n\u001b[0m    ^\u001b[0m\n\u001b[0;31mSyntaxError\u001b[0m\u001b[0;31m:\u001b[0m name 't_cisel' is parameter and global\n"
          ]
        }
      ]
    }
  ]
}