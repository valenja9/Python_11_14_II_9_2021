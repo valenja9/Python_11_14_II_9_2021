{
  "nbformat": 4,
  "nbformat_minor": 0,
  "metadata": {
    "colab": {
      "name": "Python_II_20_10_2021.ipynb",
      "provenance": [],
      "authorship_tag": "ABX9TyMhT98ubW/Mn9vaDm/qk8+P",
      "include_colab_link": true
    },
    "kernelspec": {
      "name": "python3",
      "display_name": "Python 3"
    },
    "language_info": {
      "name": "python"
    }
  },
  "cells": [
    {
      "cell_type": "markdown",
      "metadata": {
        "id": "view-in-github",
        "colab_type": "text"
      },
      "source": [
        "<a href=\"https://colab.research.google.com/github/valenja9/Python_11_14_II_9_2021/blob/main/Python_II_20_10_2021.ipynb\" target=\"_parent\"><img src=\"https://colab.research.google.com/assets/colab-badge.svg\" alt=\"Open In Colab\"/></a>"
      ]
    },
    {
      "cell_type": "code",
      "metadata": {
        "colab": {
          "base_uri": "https://localhost:8080/"
        },
        "id": "KtKwNvLBms-2",
        "outputId": "662b3a2d-0dad-4a88-94c1-c415786d934d"
      },
      "source": [
        "import requests\n",
        "klic = \"d7fbd888f435c075cdd7d5a28ed0c899\"\n",
        "url = f'http://api.openweathermap.org/data/2.5/weather?q=London,uk&APPID={klic}'\n",
        "r = requests.get(url)\n",
        "r.status_code"
      ],
      "execution_count": 4,
      "outputs": [
        {
          "output_type": "execute_result",
          "data": {
            "text/plain": [
              "200"
            ]
          },
          "metadata": {},
          "execution_count": 4
        }
      ]
    },
    {
      "cell_type": "code",
      "metadata": {
        "id": "W4Mc3lR3tYnj"
      },
      "source": [
        "slovnik_dat = r.json() #Jaky datovy typ?"
      ],
      "execution_count": 8,
      "outputs": []
    },
    {
      "cell_type": "code",
      "metadata": {
        "colab": {
          "base_uri": "https://localhost:8080/",
          "height": 35
        },
        "id": "UlKBjMzOuLNu",
        "outputId": "50109f2f-bede-4fb3-95a9-213bcd9cce4a"
      },
      "source": [
        "slovnik = {\"jmeno\" : \"Jakub\", \"prijmeni\" : \"Valenta\"}\n",
        "slovnik[\"jmeno\"]"
      ],
      "execution_count": 10,
      "outputs": [
        {
          "output_type": "execute_result",
          "data": {
            "application/vnd.google.colaboratory.intrinsic+json": {
              "type": "string"
            },
            "text/plain": [
              "'Jakub'"
            ]
          },
          "metadata": {},
          "execution_count": 10
        }
      ]
    },
    {
      "cell_type": "code",
      "metadata": {
        "id": "ZAE3j3UCu9Hv"
      },
      "source": [
        "#jmeno, prezdivka, vek, konicky [\"Squash\",....], vyska\n"
      ],
      "execution_count": null,
      "outputs": []
    },
    {
      "cell_type": "code",
      "metadata": {
        "colab": {
          "base_uri": "https://localhost:8080/",
          "height": 35
        },
        "id": "yq3_nQ4guv9m",
        "outputId": "e0637de0-7533-4063-d525-e4e38c6f654c"
      },
      "source": [
        "slovnik['prijmeni']"
      ],
      "execution_count": 11,
      "outputs": [
        {
          "output_type": "execute_result",
          "data": {
            "application/vnd.google.colaboratory.intrinsic+json": {
              "type": "string"
            },
            "text/plain": [
              "'Valenta'"
            ]
          },
          "metadata": {},
          "execution_count": 11
        }
      ]
    },
    {
      "cell_type": "code",
      "metadata": {
        "colab": {
          "base_uri": "https://localhost:8080/"
        },
        "id": "EaCrR-Ntt2eO",
        "outputId": "f65d73e2-0212-452c-a9ff-3de5a0b9884c"
      },
      "source": [
        "slovnik_dat.keys()"
      ],
      "execution_count": 12,
      "outputs": [
        {
          "output_type": "execute_result",
          "data": {
            "text/plain": [
              "dict_keys(['coord', 'weather', 'base', 'main', 'visibility', 'wind', 'clouds', 'dt', 'sys', 'timezone', 'id', 'name', 'cod'])"
            ]
          },
          "metadata": {},
          "execution_count": 12
        }
      ]
    },
    {
      "cell_type": "code",
      "metadata": {
        "colab": {
          "base_uri": "https://localhost:8080/"
        },
        "id": "-IdMqRjOx8zC",
        "outputId": "587f71f9-c1d0-4244-bea7-77691f78ff42"
      },
      "source": [
        "slovnik_dat[\"main\"][\"temp_max\"]"
      ],
      "execution_count": 15,
      "outputs": [
        {
          "output_type": "execute_result",
          "data": {
            "text/plain": [
              "292.01"
            ]
          },
          "metadata": {},
          "execution_count": 15
        }
      ]
    },
    {
      "cell_type": "code",
      "metadata": {
        "colab": {
          "base_uri": "https://localhost:8080/"
        },
        "id": "IGhdEIgUyh3P",
        "outputId": "043402c8-b38a-4793-f26e-f9653ff7b219"
      },
      "source": [
        "slovnik_dat"
      ],
      "execution_count": 16,
      "outputs": [
        {
          "output_type": "execute_result",
          "data": {
            "text/plain": [
              "{'base': 'stations',\n",
              " 'clouds': {'all': 75},\n",
              " 'cod': 200,\n",
              " 'coord': {'lat': 51.5085, 'lon': -0.1257},\n",
              " 'dt': 1634733335,\n",
              " 'id': 2643743,\n",
              " 'main': {'feels_like': 290.27,\n",
              "  'humidity': 71,\n",
              "  'pressure': 999,\n",
              "  'temp': 290.61,\n",
              "  'temp_max': 292.01,\n",
              "  'temp_min': 288.64},\n",
              " 'name': 'London',\n",
              " 'sys': {'country': 'GB',\n",
              "  'id': 2019646,\n",
              "  'sunrise': 1634711579,\n",
              "  'sunset': 1634749035,\n",
              "  'type': 2},\n",
              " 'timezone': 3600,\n",
              " 'visibility': 10000,\n",
              " 'weather': [{'description': 'broken clouds',\n",
              "   'icon': '04d',\n",
              "   'id': 803,\n",
              "   'main': 'Clouds'}],\n",
              " 'wind': {'deg': 250, 'gust': 12.86, 'speed': 7.2}}"
            ]
          },
          "metadata": {},
          "execution_count": 16
        }
      ]
    },
    {
      "cell_type": "code",
      "metadata": {
        "colab": {
          "base_uri": "https://localhost:8080/"
        },
        "id": "OReCh7wv4rri",
        "outputId": "c3ef2cd4-fc78-4fb2-9be8-86420d55f9af"
      },
      "source": [
        "oddelovac = \"=\" * 80\n",
        "while True:\n",
        "  #procti jednotlive zaznamy\n",
        "  list_klicu = list(slovnik_dat.keys())\n",
        "  print(\"----\".join(list_klicu))\n",
        "  volba = input(\"Zadej co chces vedet jinak dej exit pro ukonceni: \").lower()\n",
        "  if volba == \"exit\":\n",
        "    break\n",
        "  elif volba == \"main\":\n",
        "     data = slovnik_dat['main']\n",
        "     print(\"----\".join(list(slovnik_dat['main'].keys())))\n",
        "     klic = input(\"Zadej klic: \").lower()\n",
        "\n",
        "  #doplnte elif\n",
        "     if klic == 'temp_max':\n",
        "       print(f\"Maximalni telplota v Kelvinech je: {data['temp_max']}\")\n",
        "     #doplnte elif\n",
        "     else:\n",
        "       print(\"Spatny vyber.\")\n",
        "  else:\n",
        "    print(\"Spatny vyber.\")\n",
        "print(\"Děkuji za puziti teto aplikace.\")\n"
      ],
      "execution_count": 18,
      "outputs": [
        {
          "output_type": "stream",
          "name": "stdout",
          "text": [
            "coord----weather----base----main----visibility----wind----clouds----dt----sys----timezone----id----name----cod\n",
            "Zadej co chces vedet jinak dej exit pro ukoncenimain\n",
            "temp----feels_like----temp_min----temp_max----pressure----humidity\n",
            "Zadej klictemp_max\n",
            "Maximalni telplota v Kelvinech je: 292.01\n",
            "coord----weather----base----main----visibility----wind----clouds----dt----sys----timezone----id----name----cod\n",
            "Zadej co chces vedet jinak dej exit pro ukonceniexit\n",
            "Děkuji za puziti teto aplikace.\n"
          ]
        }
      ]
    }
  ]
}