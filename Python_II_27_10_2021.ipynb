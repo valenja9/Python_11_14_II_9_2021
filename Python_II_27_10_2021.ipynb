{
  "nbformat": 4,
  "nbformat_minor": 0,
  "metadata": {
    "colab": {
      "name": "Python_II_27_10_2021.ipynb",
      "provenance": [],
      "authorship_tag": "ABX9TyP7nxk4yHOm/cA8/6gNluVi",
      "include_colab_link": true
    },
    "kernelspec": {
      "name": "python3",
      "display_name": "Python 3"
    },
    "language_info": {
      "name": "python"
    }
  },
  "cells": [
    {
      "cell_type": "markdown",
      "metadata": {
        "id": "view-in-github",
        "colab_type": "text"
      },
      "source": [
        "<a href=\"https://colab.research.google.com/github/valenja9/Python_11_14_II_9_2021/blob/main/Python_II_27_10_2021.ipynb\" target=\"_parent\"><img src=\"https://colab.research.google.com/assets/colab-badge.svg\" alt=\"Open In Colab\"/></a>"
      ]
    },
    {
      "cell_type": "markdown",
      "metadata": {
        "id": "XffAQToxtiF3"
      },
      "source": [
        "- Data http://api.open-notify.org/\n",
        "- lidi ve vesmiru http://api.open-notify.org/astros.json\n",
        "- lokace iss stanice http://api.open-notify.org/iss-now.json"
      ]
    },
    {
      "cell_type": "code",
      "metadata": {
        "colab": {
          "base_uri": "https://localhost:8080/"
        },
        "id": "3kyrePuOs6u-",
        "outputId": "40b15436-db0e-4142-f139-5b81497f8be3"
      },
      "source": [
        "import requests\n",
        "response = requests.get(\"http://api.open-notify.org/astros.json\")\n",
        "print(response)"
      ],
      "execution_count": 4,
      "outputs": [
        {
          "output_type": "stream",
          "name": "stdout",
          "text": [
            "<Response [200]>\n"
          ]
        }
      ]
    },
    {
      "cell_type": "code",
      "metadata": {
        "id": "vUK3BKokuD-g"
      },
      "source": [
        "data = response.json()"
      ],
      "execution_count": 5,
      "outputs": []
    },
    {
      "cell_type": "code",
      "metadata": {
        "colab": {
          "base_uri": "https://localhost:8080/"
        },
        "id": "8bRTBIyYuJsK",
        "outputId": "cc69b807-424d-4a62-ce5d-fd61264b3fd5"
      },
      "source": [
        "data  "
      ],
      "execution_count": 6,
      "outputs": [
        {
          "output_type": "execute_result",
          "data": {
            "text/plain": [
              "{'message': 'success',\n",
              " 'number': 10,\n",
              " 'people': [{'craft': 'ISS', 'name': 'Mark Vande Hei'},\n",
              "  {'craft': 'ISS', 'name': 'Pyotr Dubrov'},\n",
              "  {'craft': 'ISS', 'name': 'Thomas Pesquet'},\n",
              "  {'craft': 'ISS', 'name': 'Megan McArthur'},\n",
              "  {'craft': 'ISS', 'name': 'Shane Kimbrough'},\n",
              "  {'craft': 'ISS', 'name': 'Akihiko Hoshide'},\n",
              "  {'craft': 'ISS', 'name': 'Anton Shkaplerov'},\n",
              "  {'craft': 'Shenzhou 13', 'name': 'Zhai Zhigang'},\n",
              "  {'craft': 'Shenzhou 13', 'name': 'Wang Yaping'},\n",
              "  {'craft': 'Shenzhou 13', 'name': 'Ye Guangfu'}]}"
            ]
          },
          "metadata": {},
          "execution_count": 6
        }
      ]
    },
    {
      "cell_type": "code",
      "metadata": {
        "colab": {
          "base_uri": "https://localhost:8080/"
        },
        "id": "SMY4LhYW3I6S",
        "outputId": "1890ad5b-54d9-4697-d534-a48bae0268c8"
      },
      "source": [
        "data.keys()"
      ],
      "execution_count": 9,
      "outputs": [
        {
          "output_type": "execute_result",
          "data": {
            "text/plain": [
              "dict_keys(['number', 'people', 'message'])"
            ]
          },
          "metadata": {},
          "execution_count": 9
        }
      ]
    },
    {
      "cell_type": "code",
      "metadata": {
        "colab": {
          "base_uri": "https://localhost:8080/"
        },
        "id": "vfSlMih-3WS7",
        "outputId": "b8c278f4-3bbd-4484-8e9c-f4553269b79e"
      },
      "source": [
        "for d in data[\"people\"]:\n",
        "  print(d[\"name\"])\n"
      ],
      "execution_count": 14,
      "outputs": [
        {
          "output_type": "stream",
          "name": "stdout",
          "text": [
            "Mark Vande Hei\n",
            "Pyotr Dubrov\n",
            "Thomas Pesquet\n",
            "Megan McArthur\n",
            "Shane Kimbrough\n",
            "Akihiko Hoshide\n",
            "Anton Shkaplerov\n",
            "Zhai Zhigang\n",
            "Wang Yaping\n",
            "Ye Guangfu\n"
          ]
        }
      ]
    },
    {
      "cell_type": "code",
      "metadata": {
        "colab": {
          "base_uri": "https://localhost:8080/"
        },
        "id": "tLtSCJBH9AUz",
        "outputId": "228a7239-a8ea-48f1-a641-e1cd78ca596a"
      },
      "source": [
        "klic = input(\"vyber(craft/name)\")\n",
        "for d in data[\"people\"]:\n",
        "  print(d[klic])"
      ],
      "execution_count": 16,
      "outputs": [
        {
          "output_type": "stream",
          "name": "stdout",
          "text": [
            "vyber(craft/name)craft\n",
            "ISS\n",
            "ISS\n",
            "ISS\n",
            "ISS\n",
            "ISS\n",
            "ISS\n",
            "ISS\n",
            "Shenzhou 13\n",
            "Shenzhou 13\n",
            "Shenzhou 13\n"
          ]
        }
      ]
    },
    {
      "cell_type": "code",
      "metadata": {
        "colab": {
          "base_uri": "https://localhost:8080/"
        },
        "id": "xyRkuNBH3fr7",
        "outputId": "1af01f4a-d2ba-4c25-f84a-75de9721f1ed"
      },
      "source": [
        "data[\"people\"]"
      ],
      "execution_count": 11,
      "outputs": [
        {
          "output_type": "execute_result",
          "data": {
            "text/plain": [
              "[{'craft': 'ISS', 'name': 'Mark Vande Hei'},\n",
              " {'craft': 'ISS', 'name': 'Pyotr Dubrov'},\n",
              " {'craft': 'ISS', 'name': 'Thomas Pesquet'},\n",
              " {'craft': 'ISS', 'name': 'Megan McArthur'},\n",
              " {'craft': 'ISS', 'name': 'Shane Kimbrough'},\n",
              " {'craft': 'ISS', 'name': 'Akihiko Hoshide'},\n",
              " {'craft': 'ISS', 'name': 'Anton Shkaplerov'},\n",
              " {'craft': 'Shenzhou 13', 'name': 'Zhai Zhigang'},\n",
              " {'craft': 'Shenzhou 13', 'name': 'Wang Yaping'},\n",
              " {'craft': 'Shenzhou 13', 'name': 'Ye Guangfu'}]"
            ]
          },
          "metadata": {},
          "execution_count": 11
        }
      ]
    },
    {
      "cell_type": "code",
      "metadata": {
        "colab": {
          "base_uri": "https://localhost:8080/"
        },
        "id": "od9QcixxuMnR",
        "outputId": "1e929490-a3d0-4fe3-c5a9-bd3023f87b3f"
      },
      "source": [
        "import requests\n",
        "response = requests.get(\"http://api.open-notify.org/iss-now.json\")\n",
        "print(response)"
      ],
      "execution_count": 17,
      "outputs": [
        {
          "output_type": "stream",
          "name": "stdout",
          "text": [
            "<Response [200]>\n"
          ]
        }
      ]
    },
    {
      "cell_type": "code",
      "metadata": {
        "colab": {
          "base_uri": "https://localhost:8080/"
        },
        "id": "fLSoPQeHuQg1",
        "outputId": "056334b5-e887-45fe-c6d2-dfe2bc8fd7c5"
      },
      "source": [
        "data_iss = response.json()\n",
        "data_iss"
      ],
      "execution_count": 18,
      "outputs": [
        {
          "output_type": "execute_result",
          "data": {
            "text/plain": [
              "{'iss_position': {'latitude': '37.7735', 'longitude': '-153.6792'},\n",
              " 'message': 'success',\n",
              " 'timestamp': 1635341654}"
            ]
          },
          "metadata": {},
          "execution_count": 18
        }
      ]
    },
    {
      "cell_type": "code",
      "metadata": {
        "colab": {
          "base_uri": "https://localhost:8080/",
          "height": 35
        },
        "id": "fxFu17a79W6V",
        "outputId": "ca39bc58-3a06-4374-88a7-5a049ff860fe"
      },
      "source": [
        "data_iss[\"iss_position\"]['longitude']"
      ],
      "execution_count": 21,
      "outputs": [
        {
          "output_type": "execute_result",
          "data": {
            "application/vnd.google.colaboratory.intrinsic+json": {
              "type": "string"
            },
            "text/plain": [
              "'-153.6792'"
            ]
          },
          "metadata": {},
          "execution_count": 21
        }
      ]
    },
    {
      "cell_type": "code",
      "metadata": {
        "colab": {
          "base_uri": "https://localhost:8080/",
          "height": 35
        },
        "id": "s7wJ2Svk9wbj",
        "outputId": "279fb92d-cb87-4e52-ab71-e90f82e3c39b"
      },
      "source": [
        "data_iss[\"iss_position\"]['latitude']"
      ],
      "execution_count": 22,
      "outputs": [
        {
          "output_type": "execute_result",
          "data": {
            "application/vnd.google.colaboratory.intrinsic+json": {
              "type": "string"
            },
            "text/plain": [
              "'37.7735'"
            ]
          },
          "metadata": {},
          "execution_count": 22
        }
      ]
    },
    {
      "cell_type": "code",
      "metadata": {
        "colab": {
          "base_uri": "https://localhost:8080/"
        },
        "id": "bQgY6AgS-DZJ",
        "outputId": "0436b2e0-3b21-4adf-df76-805b9d9d1677"
      },
      "source": [
        "data_iss[\"timestamp\"]"
      ],
      "execution_count": 23,
      "outputs": [
        {
          "output_type": "execute_result",
          "data": {
            "text/plain": [
              "1635341654"
            ]
          },
          "metadata": {},
          "execution_count": 23
        }
      ]
    },
    {
      "cell_type": "code",
      "metadata": {
        "colab": {
          "base_uri": "https://localhost:8080/",
          "height": 35
        },
        "id": "Fu52vHgH-Mtt",
        "outputId": "c7a01330-ae83-4a6a-d248-1265d297b955"
      },
      "source": [
        "data_iss[\"message\"]"
      ],
      "execution_count": 24,
      "outputs": [
        {
          "output_type": "execute_result",
          "data": {
            "application/vnd.google.colaboratory.intrinsic+json": {
              "type": "string"
            },
            "text/plain": [
              "'success'"
            ]
          },
          "metadata": {},
          "execution_count": 24
        }
      ]
    }
  ]
}